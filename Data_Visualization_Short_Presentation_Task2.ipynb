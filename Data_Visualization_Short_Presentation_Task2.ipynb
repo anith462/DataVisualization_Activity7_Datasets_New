{
  "nbformat": 4,
  "nbformat_minor": 0,
  "metadata": {
    "colab": {
      "provenance": []
    },
    "kernelspec": {
      "name": "python3",
      "display_name": "Python 3"
    },
    "language_info": {
      "name": "python"
    }
  },
  "cells": [
    {
      "cell_type": "code",
      "execution_count": 7,
      "metadata": {
        "id": "oLyWK8bJpqSS",
        "colab": {
          "base_uri": "https://localhost:8080/",
          "height": 606
        },
        "outputId": "baf778f9-ba91-4b96-9a5f-39eedc1dc61d"
      },
      "outputs": [
        {
          "output_type": "execute_result",
          "data": {
            "text/html": [
              "\n",
              "<div id=\"altair-viz-ebbd57c210174a79aebbe3a23008f944\"></div>\n",
              "<script type=\"text/javascript\">\n",
              "  var VEGA_DEBUG = (typeof VEGA_DEBUG == \"undefined\") ? {} : VEGA_DEBUG;\n",
              "  (function(spec, embedOpt){\n",
              "    let outputDiv = document.currentScript.previousElementSibling;\n",
              "    if (outputDiv.id !== \"altair-viz-ebbd57c210174a79aebbe3a23008f944\") {\n",
              "      outputDiv = document.getElementById(\"altair-viz-ebbd57c210174a79aebbe3a23008f944\");\n",
              "    }\n",
              "    const paths = {\n",
              "      \"vega\": \"https://cdn.jsdelivr.net/npm//vega@5?noext\",\n",
              "      \"vega-lib\": \"https://cdn.jsdelivr.net/npm//vega-lib?noext\",\n",
              "      \"vega-lite\": \"https://cdn.jsdelivr.net/npm//vega-lite@4.17.0?noext\",\n",
              "      \"vega-embed\": \"https://cdn.jsdelivr.net/npm//vega-embed@6?noext\",\n",
              "    };\n",
              "\n",
              "    function maybeLoadScript(lib, version) {\n",
              "      var key = `${lib.replace(\"-\", \"\")}_version`;\n",
              "      return (VEGA_DEBUG[key] == version) ?\n",
              "        Promise.resolve(paths[lib]) :\n",
              "        new Promise(function(resolve, reject) {\n",
              "          var s = document.createElement('script');\n",
              "          document.getElementsByTagName(\"head\")[0].appendChild(s);\n",
              "          s.async = true;\n",
              "          s.onload = () => {\n",
              "            VEGA_DEBUG[key] = version;\n",
              "            return resolve(paths[lib]);\n",
              "          };\n",
              "          s.onerror = () => reject(`Error loading script: ${paths[lib]}`);\n",
              "          s.src = paths[lib];\n",
              "        });\n",
              "    }\n",
              "\n",
              "    function showError(err) {\n",
              "      outputDiv.innerHTML = `<div class=\"error\" style=\"color:red;\">${err}</div>`;\n",
              "      throw err;\n",
              "    }\n",
              "\n",
              "    function displayChart(vegaEmbed) {\n",
              "      vegaEmbed(outputDiv, spec, embedOpt)\n",
              "        .catch(err => showError(`Javascript Error: ${err.message}<br>This usually means there's a typo in your chart specification. See the javascript console for the full traceback.`));\n",
              "    }\n",
              "\n",
              "    if(typeof define === \"function\" && define.amd) {\n",
              "      requirejs.config({paths});\n",
              "      require([\"vega-embed\"], displayChart, err => showError(`Error loading script: ${err.message}`));\n",
              "    } else {\n",
              "      maybeLoadScript(\"vega\", \"5\")\n",
              "        .then(() => maybeLoadScript(\"vega-lite\", \"4.17.0\"))\n",
              "        .then(() => maybeLoadScript(\"vega-embed\", \"6\"))\n",
              "        .catch(showError)\n",
              "        .then(() => displayChart(vegaEmbed));\n",
              "    }\n",
              "  })({\"config\": {\"view\": {\"continuousWidth\": 400, \"continuousHeight\": 300}, \"axis\": {\"labelFontSize\": 12, \"titleFontSize\": 14}}, \"data\": {\"name\": \"data-8477d361501538fdfc48a1b21de9b129\"}, \"mark\": {\"type\": \"area\", \"opacity\": 0.6}, \"encoding\": {\"color\": {\"field\": \"Metric\", \"legend\": {\"title\": \"Metric\"}, \"scale\": {\"range\": [\"#f3b8b2\", \"#ff7f0e\"]}, \"type\": \"nominal\"}, \"tooltip\": [{\"field\": \"Year\", \"type\": \"quantitative\"}, {\"field\": \"Value\", \"type\": \"quantitative\"}, {\"field\": \"Metric\", \"type\": \"nominal\"}], \"x\": {\"field\": \"Year\", \"title\": \"Year\", \"type\": \"ordinal\"}, \"y\": {\"field\": \"Value\", \"title\": \"Value\", \"type\": \"quantitative\"}}, \"height\": 500, \"title\": \"The Trend for Netflix\", \"width\": 1000, \"$schema\": \"https://vega.github.io/schema/vega-lite/v4.17.0.json\", \"datasets\": {\"data-8477d361501538fdfc48a1b21de9b129\": [{\"Year\": 2010, \"Metric\": \"TV Shows\", \"Value\": 100}, {\"Year\": 2011, \"Metric\": \"TV Shows\", \"Value\": 150}, {\"Year\": 2012, \"Metric\": \"TV Shows\", \"Value\": 200}, {\"Year\": 2013, \"Metric\": \"TV Shows\", \"Value\": 180}, {\"Year\": 2014, \"Metric\": \"TV Shows\", \"Value\": 250}, {\"Year\": 2015, \"Metric\": \"TV Shows\", \"Value\": 300}, {\"Year\": 2016, \"Metric\": \"TV Shows\", \"Value\": 280}, {\"Year\": 2017, \"Metric\": \"TV Shows\", \"Value\": 320}, {\"Year\": 2018, \"Metric\": \"TV Shows\", \"Value\": 350}, {\"Year\": 2019, \"Metric\": \"TV Shows\", \"Value\": 400}, {\"Year\": 2020, \"Metric\": \"TV Shows\", \"Value\": 380}, {\"Year\": 2010, \"Metric\": \"Movies\", \"Value\": 80}, {\"Year\": 2011, \"Metric\": \"Movies\", \"Value\": 110}, {\"Year\": 2012, \"Metric\": \"Movies\", \"Value\": 150}, {\"Year\": 2013, \"Metric\": \"Movies\", \"Value\": 140}, {\"Year\": 2014, \"Metric\": \"Movies\", \"Value\": 200}, {\"Year\": 2015, \"Metric\": \"Movies\", \"Value\": 250}, {\"Year\": 2016, \"Metric\": \"Movies\", \"Value\": 220}, {\"Year\": 2017, \"Metric\": \"Movies\", \"Value\": 280}, {\"Year\": 2018, \"Metric\": \"Movies\", \"Value\": 310}, {\"Year\": 2019, \"Metric\": \"Movies\", \"Value\": 350}, {\"Year\": 2020, \"Metric\": \"Movies\", \"Value\": 330}]}}, {\"mode\": \"vega-lite\"});\n",
              "</script>"
            ],
            "text/plain": [
              "alt.Chart(...)"
            ]
          },
          "metadata": {},
          "execution_count": 7
        }
      ],
      "source": [
        "import pandas as pd\n",
        "import altair as alt\n",
        "\n",
        "# Set the renderer to 'colab'\n",
        "alt.renderers.enable('colab')\n",
        "\n",
        "# Create the dataset\n",
        "data = pd.DataFrame({\n",
        "    'Year': [2010, 2011, 2012, 2013, 2014, 2015, 2016, 2017, 2018, 2019, 2020],\n",
        "    'TV Shows': [100, 150, 200, 180, 250, 300, 280, 320, 350, 400, 380],\n",
        "    'Movies': [80, 110, 150, 140, 200, 250, 220, 280, 310, 350, 330]\n",
        "})\n",
        "\n",
        "# Transform the data to long format\n",
        "data_long = data.melt('Year', var_name='Metric', value_name='Value')\n",
        "\n",
        "# Create the area chart with tooltips\n",
        "chart = alt.Chart(data_long).mark_area(opacity=0.6).encode(\n",
        "    x=alt.X('Year:O', title='Year'),\n",
        "    y=alt.Y('Value:Q', title='Value'),\n",
        "    color=alt.Color('Metric:N', legend=alt.Legend(title='Metric'),\n",
        "                    scale=alt.Scale(range=['#f3b8b2', '#ff7f0e'])),\n",
        "    tooltip=['Year', 'Value', 'Metric']\n",
        ").properties(\n",
        "    width=1000,\n",
        "    height=500,\n",
        "    title='The Trend for Netflix'\n",
        ").configure_axis(\n",
        "    labelFontSize=16\n",
        ")\n",
        "\n",
        "# Add axis labels\n",
        "chart = chart.configure_axis(\n",
        "    titleFontSize=14,\n",
        "    labelFontSize=12\n",
        ")\n",
        "\n",
        "# Display the chart\n",
        "chart"
      ]
    }
  ]
}